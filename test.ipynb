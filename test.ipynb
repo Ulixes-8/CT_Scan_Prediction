{
 "cells": [
  {
   "cell_type": "code",
   "execution_count": null,
   "metadata": {},
   "outputs": [
    {
     "data": {
      "text/plain": [
       "array([-1.93899632e-03,  8.01201341e-03, -1.20832047e-03, -1.37300424e-03,\n",
       "        2.48560239e-03, -1.19802496e-02, -2.46786830e-02,  1.00313572e-02,\n",
       "        6.23898746e-03,  8.33023554e-03,  1.41145817e-03,  2.33487487e-03,\n",
       "        5.68020906e-03, -2.19117897e-04, -2.00232853e-03, -4.17799779e-03,\n",
       "        3.73710125e-03,  6.11793310e-05, -1.12678468e-02,  6.42341301e-03])"
      ]
     },
     "execution_count": 11,
     "metadata": {},
     "output_type": "execute_result"
    }
   ],
   "source": [
    "import numpy as np\n",
    "K = 20\n",
    "np.random.randn(K) * .05"
   ]
  }
 ],
 "metadata": {
  "kernelspec": {
   "display_name": "venv",
   "language": "python",
   "name": "python3"
  },
  "language_info": {
   "codemirror_mode": {
    "name": "ipython",
    "version": 3
   },
   "file_extension": ".py",
   "mimetype": "text/x-python",
   "name": "python",
   "nbconvert_exporter": "python",
   "pygments_lexer": "ipython3",
   "version": "3.10.12"
  }
 },
 "nbformat": 4,
 "nbformat_minor": 2
}
